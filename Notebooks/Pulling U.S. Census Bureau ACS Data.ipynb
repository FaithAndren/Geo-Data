{
 "cells": [
  {
   "cell_type": "markdown",
   "metadata": {},
   "source": [
    "# Pulling USCB ACS Block Group Data\n",
    "\n",
    "This notebook pulls in block group level ACS data."
   ]
  },
  {
   "cell_type": "code",
   "execution_count": 5,
   "metadata": {},
   "outputs": [],
   "source": [
    "import pandas as pd\n",
    "import numpy as np\n",
    "import json, requests, time"
   ]
  },
  {
   "cell_type": "markdown",
   "metadata": {},
   "source": [
    "Change your parameters here:"
   ]
  },
  {
   "cell_type": "code",
   "execution_count": 6,
   "metadata": {},
   "outputs": [],
   "source": [
    "## ACS Year of Data to pull\n",
    "acs_year = 2019\n",
    "\n",
    "## 5yr or 1yr estimates?  \n",
    "acs_version = 5 \n",
    "\n",
    "## Request API key from census bureau:\n",
    "## https://api.census.gov/data/key_signup.html\n",
    "census_key = 'input your key here'\n",
    "\n",
    "## GEO LEVEL: ['TRACT', 'BLOCK GROUP', 'ZCTA']\n",
    "geo_level = 'ZCTA'"
   ]
  },
  {
   "cell_type": "code",
   "execution_count": 7,
   "metadata": {},
   "outputs": [],
   "source": [
    "## ACS COLUMNS TO GRAB \n",
    "## https://api.census.gov/data/2018/acs/acs5/variables.html\n",
    "\n",
    "\n",
    "## [ [\"ACS NAME\", \"PREFERRED NAME\"] ]\n",
    "\n",
    "acs_cols = [     \n",
    "    ## Total Population\n",
    "    ['B01003_001E', 'TOT_POP']\n",
    "    \n",
    "    ## Median Age \n",
    "    , ['B01002_001E', 'MED_AGE']\n",
    "    \n",
    "    ## MEDIAN HOUSEHOLD INCOME IN THE PAST 12 MONTHS\n",
    "    , ['B19013_001E', 'MED_HH_INC']\n",
    "]\n"
   ]
  },
  {
   "cell_type": "markdown",
   "metadata": {},
   "source": [
    "***\n",
    "***\n",
    "***"
   ]
  },
  {
   "cell_type": "code",
   "execution_count": 8,
   "metadata": {},
   "outputs": [],
   "source": [
    "if geo_level not in ('TRACT', 'BLOCK GROUP', 'ZCTA'):\n",
    "    raise ValueError('Appropriate geo-level not defined')"
   ]
  },
  {
   "cell_type": "code",
   "execution_count": 9,
   "metadata": {},
   "outputs": [],
   "source": [
    "acs_dicts={}\n",
    "acs_df = pd.DataFrame()\n",
    "decade = str(int(acs_year / 10) * 10)[2:4]\n",
    "\n",
    "if geo_level == 'BLOCK GROUP':\n",
    "    grp_cols = ['STATEFP', 'COUNTYFP', 'TRACTCE', 'BLKGRPCE']\n",
    "elif geo_level == 'TRACT':\n",
    "    grp_cols = ['STATEFP', 'COUNTYFP', 'TRACTCE']\n",
    "else:\n",
    "    grp_cols = ['STATEFP', 'ZCTA5CE']\n",
    "\n",
    "\n",
    "grp_cols = [s + str(decade) for s in grp_cols]\n",
    "\n",
    "\n",
    "## LOOP THROUGH EACH COLUMN\n",
    "for i1, y in enumerate(acs_cols):\n",
    "    \n",
    "    ## Grab states to loop through\n",
    "    st_uscb_url = (\n",
    "        ## ACS API DETAILED TABLES URL\n",
    "        'https://api.census.gov/data/'\n",
    "        +str(acs_year)+'/acs/acs'+str(acs_version)+'?get='\n",
    "        ## ACS API VARIABLE\n",
    "        +str(y[0])\n",
    "        ## ALL STATES\n",
    "        +'&for=state:*'\n",
    "        ## CENSUS API KEY\n",
    "        +'&key='+census_key\n",
    "    )\n",
    "    response = requests.get(st_uscb_url)\n",
    "    data = json.loads(response.content.decode('utf-8'))\n",
    "    \n",
    "    if geo_level in ('ZCTA'):\n",
    "        st_cds = ['*']\n",
    "    else:\n",
    "        st_cds = [item[1] for item in data]\n",
    "        st_cds.remove('state')\n",
    "    \n",
    " \n",
    "    ## LOOP THROUGH EACH STATE\n",
    "    for i, x in enumerate(st_cds):\n",
    "\n",
    "        attempts = 0\n",
    "        while attempts < 5:\n",
    "\n",
    "            try:\n",
    "                attempts += 1\n",
    "                \n",
    "                ## USCB API Examples: \n",
    "                    ## 1yr: https://api.census.gov/data/2019/acs/acs1/examples.html\n",
    "                    ## 5yr: https://api.census.gov/data/2019/acs/acs5/examples.html\n",
    "                scrape_uscb_url = (\n",
    "                    ## ACS API DETAILED TABLES URL\n",
    "                    'https://api.census.gov/data/'\n",
    "                    ## ACS YEAR AND VERSION (1yr/5yr) OF DATA TO PULL\n",
    "                    +str(acs_year)+'/acs/acs'+str(acs_version)+'?get='\n",
    "                    ## ACS API VARIABLE\n",
    "                    +str(y[0])\n",
    "                    +'&for='\n",
    "                    +( 'tract:*&in=state:'\n",
    "                      if geo_level == 'TRACT'\n",
    "                      else 'block%20group:*&in=county:*&in=state:'\n",
    "                      if geo_level == 'BLOCK GROUP'                       \n",
    "                      else 'zip%20code%20tabulation%20area:*&in=state:'\n",
    "                     )\n",
    "                    +str(x)\n",
    "                    ## CENSUS API KEY\n",
    "                    +'&key='+census_key\n",
    "                )\n",
    "                response = requests.get(scrape_uscb_url)\n",
    "                data = json.loads(response.content.decode('utf-8'))\n",
    "\n",
    "                headers = data.pop(0)\n",
    "                headers[headers.index(y[0])] = y[1]\n",
    "                headers[headers.index('state')] = 'STATEFP'+str(decade)\n",
    "                if geo_level in ('BLOCK GROUP', 'TRACT'):\n",
    "                    headers[headers.index('county')] = 'COUNTYFP'+str(decade)\n",
    "                    headers[headers.index('tract')] = 'TRACTCE'+str(decade)\n",
    "                    if geo_level == 'BLOCK GROUP':\n",
    "                        headers[headers.index('block group')] = 'BLKGRPCE'+str(decade)\n",
    "                else:\n",
    "                    headers[headers.index('zip code tabulation area')] = 'ZCTA5CE'+str(decade)\n",
    "\n",
    "\n",
    "                if y[0] in acs_dicts:\n",
    "                    acs_dicts[y[0]] = acs_dicts[y[0]].append(\n",
    "                        pd.DataFrame(data, columns=headers))                   \n",
    "                else:\n",
    "                    acs_dicts[y[0]] = pd.DataFrame(data, columns=headers)\n",
    "\n",
    "            except Exception as e:\n",
    "                time.sleep(30*attempts)\n",
    "                if attempts == 5:\n",
    "                    ## YOU MAY WANT TO INVESTIGATE MISSING BLOCK GROUPS\n",
    "                    print(\"Failure to pull after 5 attempts: \"\n",
    "                          +'state - '+str(x)+', column - '+str(y))\n",
    "                    print(\"Error: \"+str(e))\n",
    "                    pass\n",
    "            else:\n",
    "                break\n",
    "\n",
    "    \n",
    "    if y[0] in acs_dicts:  \n",
    "        \n",
    "        acs_dicts[y[0]][y[1]] = pd.to_numeric(acs_dicts[y[0]][y[1]], errors='coerce').replace(\n",
    "            ## https://www.census.gov/data/developers/data-sets/acs-1year/ -->\n",
    "            ## notes-on-acs-estimate-and-annotation-values.html \n",
    "            [-999999999, -888888888, -666666666\n",
    "             , -555555555, -333333333, -222222222]\n",
    "            , np.nan)\n",
    "        \n",
    "        if acs_df.empty:     \n",
    "            acs_df = acs_dicts[y[0]] \n",
    "            acs_df.insert(len(acs_df.columns)-1, y[1], acs_df.pop(y[1]))\n",
    "        else:  \n",
    "            acs_df = pd.merge(\n",
    "                    acs_df\n",
    "                    , acs_dicts[y[0]]\n",
    "                    , on=grp_cols\n",
    "                    , how = 'outer'\n",
    "                )\n"
   ]
  },
  {
   "cell_type": "code",
   "execution_count": 10,
   "metadata": {},
   "outputs": [
    {
     "data": {
      "text/plain": [
       "STATEFP10      object\n",
       "ZCTA5CE10      object\n",
       "TOT_POP         int64\n",
       "MED_AGE       float64\n",
       "MED_HH_INC    float64\n",
       "dtype: object"
      ]
     },
     "execution_count": 10,
     "metadata": {},
     "output_type": "execute_result"
    }
   ],
   "source": [
    "acs_df.dtypes"
   ]
  },
  {
   "cell_type": "code",
   "execution_count": 11,
   "metadata": {},
   "outputs": [
    {
     "data": {
      "text/plain": [
       "STATEFP10     33120\n",
       "ZCTA5CE10     33120\n",
       "TOT_POP       33120\n",
       "MED_AGE       32551\n",
       "MED_HH_INC    30821\n",
       "dtype: int64"
      ]
     },
     "execution_count": 11,
     "metadata": {},
     "output_type": "execute_result"
    }
   ],
   "source": [
    "acs_df.count()"
   ]
  },
  {
   "cell_type": "code",
   "execution_count": 12,
   "metadata": {},
   "outputs": [
    {
     "data": {
      "text/plain": [
       "STATEFP10         01\n",
       "ZCTA5CE10      00601\n",
       "TOT_POP            0\n",
       "MED_AGE          1.9\n",
       "MED_HH_INC    2499.0\n",
       "dtype: object"
      ]
     },
     "execution_count": 12,
     "metadata": {},
     "output_type": "execute_result"
    }
   ],
   "source": [
    "acs_df.min()"
   ]
  },
  {
   "cell_type": "code",
   "execution_count": 13,
   "metadata": {},
   "outputs": [
    {
     "data": {
      "text/html": [
       "<div>\n",
       "<style scoped>\n",
       "    .dataframe tbody tr th:only-of-type {\n",
       "        vertical-align: middle;\n",
       "    }\n",
       "\n",
       "    .dataframe tbody tr th {\n",
       "        vertical-align: top;\n",
       "    }\n",
       "\n",
       "    .dataframe thead th {\n",
       "        text-align: right;\n",
       "    }\n",
       "</style>\n",
       "<table border=\"1\" class=\"dataframe\">\n",
       "  <thead>\n",
       "    <tr style=\"text-align: right;\">\n",
       "      <th></th>\n",
       "      <th>STATEFP10</th>\n",
       "      <th>ZCTA5CE10</th>\n",
       "      <th>TOT_POP</th>\n",
       "      <th>MED_AGE</th>\n",
       "      <th>MED_HH_INC</th>\n",
       "    </tr>\n",
       "  </thead>\n",
       "  <tbody>\n",
       "    <tr>\n",
       "      <th>0</th>\n",
       "      <td>72</td>\n",
       "      <td>00601</td>\n",
       "      <td>17113</td>\n",
       "      <td>41.9</td>\n",
       "      <td>14361.0</td>\n",
       "    </tr>\n",
       "    <tr>\n",
       "      <th>1</th>\n",
       "      <td>72</td>\n",
       "      <td>00602</td>\n",
       "      <td>37751</td>\n",
       "      <td>42.9</td>\n",
       "      <td>16807.0</td>\n",
       "    </tr>\n",
       "    <tr>\n",
       "      <th>2</th>\n",
       "      <td>72</td>\n",
       "      <td>00603</td>\n",
       "      <td>47081</td>\n",
       "      <td>42.1</td>\n",
       "      <td>16049.0</td>\n",
       "    </tr>\n",
       "    <tr>\n",
       "      <th>3</th>\n",
       "      <td>72</td>\n",
       "      <td>00606</td>\n",
       "      <td>6392</td>\n",
       "      <td>44.3</td>\n",
       "      <td>12119.0</td>\n",
       "    </tr>\n",
       "    <tr>\n",
       "      <th>4</th>\n",
       "      <td>72</td>\n",
       "      <td>00610</td>\n",
       "      <td>26686</td>\n",
       "      <td>42.7</td>\n",
       "      <td>19898.0</td>\n",
       "    </tr>\n",
       "  </tbody>\n",
       "</table>\n",
       "</div>"
      ],
      "text/plain": [
       "  STATEFP10 ZCTA5CE10  TOT_POP  MED_AGE  MED_HH_INC\n",
       "0        72     00601    17113     41.9     14361.0\n",
       "1        72     00602    37751     42.9     16807.0\n",
       "2        72     00603    47081     42.1     16049.0\n",
       "3        72     00606     6392     44.3     12119.0\n",
       "4        72     00610    26686     42.7     19898.0"
      ]
     },
     "execution_count": 13,
     "metadata": {},
     "output_type": "execute_result"
    }
   ],
   "source": [
    "acs_df.head()"
   ]
  },
  {
   "cell_type": "markdown",
   "metadata": {},
   "source": [
    "***\n",
    "***\n",
    "***"
   ]
  },
  {
   "cell_type": "markdown",
   "metadata": {},
   "source": [
    "### Load Dataframe into Google BigQuery"
   ]
  },
  {
   "cell_type": "code",
   "execution_count": 14,
   "metadata": {},
   "outputs": [],
   "source": [
    "from google.cloud import bigquery\n",
    "from google.cloud.bigquery import SchemaField, DatasetReference"
   ]
  },
  {
   "cell_type": "code",
   "execution_count": 13,
   "metadata": {},
   "outputs": [],
   "source": [
    "## GCP Billing Project\n",
    "bq_bill_prj = \"your-billing-project\"\n",
    "\n",
    "## GCP BQ DESTINATION TABLE \n",
    "bq_prj = 'destination-prj'\n",
    "bq_ds = 'destination_dataset'\n",
    "bq_tbl = 'destination_table'"
   ]
  },
  {
   "cell_type": "code",
   "execution_count": 19,
   "metadata": {},
   "outputs": [],
   "source": [
    "sch = [\n",
    "    SchemaField('STATEFP10', 'STRING', 'NULLABLE', None, ())\n",
    "    , SchemaField('ZCTA5CE10', 'STRING', 'NULLABLE', None, ())\n",
    "    , SchemaField('TOT_POP', 'INT64', 'NULLABLE', None, ())  \n",
    "    , SchemaField('MED_AGE', 'FLOAT', 'NULLABLE', None, ())\n",
    "    , SchemaField('MED_HH_INC', 'INT64', 'NULLABLE', None, ())         \n",
    "]"
   ]
  },
  {
   "cell_type": "code",
   "execution_count": 25,
   "metadata": {},
   "outputs": [],
   "source": [
    "# Function to upload pandas dataframe into a non streaming table in BigQuery\n",
    "def df_to_bq_tbl(proj, ds, tbl, df, tbl_sch):\n",
    "    \n",
    "    bq_client = bigquery.Client(bq_prj)\n",
    "    \n",
    "    dataset_ref = DatasetReference(proj, ds)\n",
    "\n",
    "    job_config = bigquery.LoadJobConfig()\n",
    "    job_config.schema = tbl_sch\n",
    "    job_config.autodetect =True\n",
    "    job_config.write_disposition='WRITE_TRUNCATE'\n",
    "\n",
    "    load_job = bq_client.load_table_from_dataframe(df,dataset_ref.table(tbl),job_config=job_config) \n",
    "    load_job.result()    \n",
    "    destination_table = bq_client.get_table(dataset_ref.table(tbl))\n",
    "    \n",
    "    print('Loaded {} rows into `{}`.'.format(destination_table.num_rows, \".\".join([proj,ds,tbl])))"
   ]
  },
  {
   "cell_type": "code",
   "execution_count": 27,
   "metadata": {},
   "outputs": [
    {
     "name": "stdout",
     "output_type": "stream",
     "text": [
      "Loaded 33120 rows into `prj.ds.tbl`.\n"
     ]
    }
   ],
   "source": [
    "df_to_bq_tbl(bq_prj, bq_ds, bq_tbl, acs_df, sch)"
   ]
  }
 ],
 "metadata": {
  "kernelspec": {
   "display_name": "Python 3",
   "language": "python",
   "name": "python3"
  },
  "language_info": {
   "codemirror_mode": {
    "name": "ipython",
    "version": 3
   },
   "file_extension": ".py",
   "mimetype": "text/x-python",
   "name": "python",
   "nbconvert_exporter": "python",
   "pygments_lexer": "ipython3",
   "version": "3.8.3rc1"
  }
 },
 "nbformat": 4,
 "nbformat_minor": 4
}
