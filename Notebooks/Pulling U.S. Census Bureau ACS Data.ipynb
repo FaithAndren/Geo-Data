{
 "cells": [
  {
   "cell_type": "markdown",
   "metadata": {},
   "source": [
    "# Pulling USCB ACS Data\n",
    "\n",
    "This notebook pulls in ACS data at requested geo level and also has code for gcp bq load."
   ]
  },
  {
   "cell_type": "code",
   "execution_count": null,
   "metadata": {},
   "outputs": [],
   "source": [
    "import pandas as pd\n",
    "import numpy as np\n",
    "import json, requests, time"
   ]
  },
  {
   "cell_type": "markdown",
   "metadata": {},
   "source": [
    "Change your parameters here:"
   ]
  },
  {
   "cell_type": "code",
   "execution_count": 2,
   "metadata": {},
   "outputs": [],
   "source": [
    "## ACS Year of Data to pull\n",
    "acs_year = 2019\n",
    "\n",
    "## 5yr or 1yr estimates?  \n",
    "acs_version = 5 \n",
    "\n",
    "## Request API key from census bureau:\n",
    "## https://api.census.gov/data/key_signup.html\n",
    "census_key = 'input your key here'\n",
    "\n",
    "## GEO LEVEL: ['TRACT', 'BLOCK GROUP', 'ZCTA']\n",
    "geo_level = 'BLOCK GROUP'"
   ]
  },
  {
   "cell_type": "code",
   "execution_count": 3,
   "metadata": {},
   "outputs": [],
   "source": [
    "## ACS COLUMNS TO GRAB \n",
    "## https://api.census.gov/data/2018/acs/acs5/variables.html\n",
    "\n",
    "\n",
    "## [ [\"ACS NAME\", \"PREFERRED NAME\"] ]\n",
    "\n",
    "acs_cols = [     \n",
    "    ## Total Population\n",
    "    ['B01003_001E', 'TOT_POP']\n",
    "    \n",
    "    ## Median Age \n",
    "    , ['B01002_001E', 'MED_AGE']\n",
    "    \n",
    "    ## MEDIAN HOUSEHOLD INCOME IN THE PAST 12 MONTHS\n",
    "    , ['B19013_001E', 'MED_HH_INC']\n",
    "]\n"
   ]
  },
  {
   "cell_type": "markdown",
   "metadata": {},
   "source": [
    "***\n",
    "***\n",
    "***"
   ]
  },
  {
   "cell_type": "code",
   "execution_count": 4,
   "metadata": {},
   "outputs": [],
   "source": [
    "if geo_level not in ('TRACT', 'BLOCK GROUP', 'ZCTA'):\n",
    "    raise ValueError('Appropriate geo-level not defined')"
   ]
  },
  {
   "cell_type": "code",
   "execution_count": 5,
   "metadata": {},
   "outputs": [],
   "source": [
    "acs_dicts={}\n",
    "acs_df = pd.DataFrame()\n",
    "decade = str(int(acs_year / 10) * 10)[2:4]\n",
    "\n",
    "if geo_level == 'BLOCK GROUP':\n",
    "    grp_cols = ['STATEFP', 'COUNTYFP', 'TRACTCE', 'BLKGRPCE']\n",
    "elif geo_level == 'TRACT':\n",
    "    grp_cols = ['STATEFP', 'COUNTYFP', 'TRACTCE']\n",
    "else:\n",
    "    grp_cols = ['STATEFP', 'ZCTA5CE']\n",
    "\n",
    "\n",
    "grp_cols = [s + str(decade) for s in grp_cols]\n",
    "\n",
    "\n",
    "## LOOP THROUGH EACH COLUMN\n",
    "for i1, y in enumerate(acs_cols):\n",
    "    \n",
    "    ## Grab states to loop through\n",
    "    st_uscb_url = (\n",
    "        ## ACS API DETAILED TABLES URL\n",
    "        'https://api.census.gov/data/'\n",
    "        +str(acs_year)+'/acs/acs'+str(acs_version)+'?get='\n",
    "        ## ACS API VARIABLE\n",
    "        +str(y[0])\n",
    "        ## ALL STATES\n",
    "        +'&for=state:*'\n",
    "        ## CENSUS API KEY\n",
    "        +'&key='+census_key\n",
    "    )\n",
    "    response = requests.get(st_uscb_url)\n",
    "    data = json.loads(response.content.decode('utf-8'))\n",
    "    \n",
    "    if geo_level in ('ZCTA'):\n",
    "        st_cds = ['*']\n",
    "    else:\n",
    "        st_cds = [item[1] for item in data]\n",
    "        st_cds.remove('state')\n",
    "    \n",
    " \n",
    "    ## LOOP THROUGH EACH STATE\n",
    "    for i, x in enumerate(st_cds):\n",
    "\n",
    "        attempts = 0\n",
    "        while attempts < 5:\n",
    "\n",
    "            try:\n",
    "                attempts += 1\n",
    "                \n",
    "                ## USCB API Examples: \n",
    "                    ## 1yr: https://api.census.gov/data/2019/acs/acs1/examples.html\n",
    "                    ## 5yr: https://api.census.gov/data/2019/acs/acs5/examples.html\n",
    "                scrape_uscb_url = (\n",
    "                    ## ACS API DETAILED TABLES URL\n",
    "                    'https://api.census.gov/data/'\n",
    "                    ## ACS YEAR AND VERSION (1yr/5yr) OF DATA TO PULL\n",
    "                    +str(acs_year)+'/acs/acs'+str(acs_version)+'?get='\n",
    "                    ## ACS API VARIABLE\n",
    "                    +str(y[0])\n",
    "                    +'&for='\n",
    "                    +( 'tract:*&in=state:'\n",
    "                      if geo_level == 'TRACT'\n",
    "                      else 'block%20group:*&in=county:*&in=state:'\n",
    "                      if geo_level == 'BLOCK GROUP'                       \n",
    "                      else 'zip%20code%20tabulation%20area:*&in=state:'\n",
    "                     )\n",
    "                    +str(x)\n",
    "                    ## CENSUS API KEY\n",
    "                    +'&key='+census_key\n",
    "                )\n",
    "                response = requests.get(scrape_uscb_url)\n",
    "                data = json.loads(response.content.decode('utf-8'))\n",
    "\n",
    "                headers = data.pop(0)\n",
    "                headers[headers.index(y[0])] = y[1]\n",
    "                headers[headers.index('state')] = 'STATEFP'+str(decade)\n",
    "                if geo_level in ('BLOCK GROUP', 'TRACT'):\n",
    "                    headers[headers.index('county')] = 'COUNTYFP'+str(decade)\n",
    "                    headers[headers.index('tract')] = 'TRACTCE'+str(decade)\n",
    "                    if geo_level == 'BLOCK GROUP':\n",
    "                        headers[headers.index('block group')] = 'BLKGRPCE'+str(decade)\n",
    "                else:\n",
    "                    headers[headers.index('zip code tabulation area')] = 'ZCTA5CE'+str(decade)\n",
    "\n",
    "\n",
    "                if y[0] in acs_dicts:\n",
    "                    acs_dicts[y[0]] = acs_dicts[y[0]].append(\n",
    "                        pd.DataFrame(data, columns=headers))                   \n",
    "                else:\n",
    "                    acs_dicts[y[0]] = pd.DataFrame(data, columns=headers)\n",
    "\n",
    "            except Exception as e:\n",
    "                #time.sleep(30*attempts)\n",
    "                if attempts == 5:\n",
    "                    ## YOU MAY WANT TO INVESTIGATE MISSING BLOCK GROUPS\n",
    "                    print(\"Failure to pull after 5 attempts: \"\n",
    "                          +'state - '+str(x)+', column - '+str(y))\n",
    "                    print(\"Error: \"+str(e))\n",
    "                    pass\n",
    "            else:\n",
    "                break\n",
    "\n",
    "    \n",
    "    if y[0] in acs_dicts:  \n",
    "        \n",
    "        acs_dicts[y[0]][y[1]] = pd.to_numeric(acs_dicts[y[0]][y[1]], errors='coerce').replace(\n",
    "            ## https://www.census.gov/data/developers/data-sets/acs-1year/ -->\n",
    "            ## notes-on-acs-estimate-and-annotation-values.html \n",
    "            [-999999999, -888888888, -666666666\n",
    "             , -555555555, -333333333, -222222222]\n",
    "            , np.nan)\n",
    "        \n",
    "        if acs_df.empty:     \n",
    "            acs_df = acs_dicts[y[0]] \n",
    "            acs_df.insert(len(acs_df.columns)-1, y[1], acs_df.pop(y[1]))\n",
    "        else:  \n",
    "            acs_df = pd.merge(\n",
    "                    acs_df\n",
    "                    , acs_dicts[y[0]]\n",
    "                    , on=grp_cols\n",
    "                    , how = 'outer'\n",
    "                )\n"
   ]
  },
  {
   "cell_type": "code",
   "execution_count": 6,
   "metadata": {},
   "outputs": [
    {
     "data": {
      "text/plain": [
       "STATEFP10      object\n",
       "COUNTYFP10     object\n",
       "TRACTCE10      object\n",
       "BLKGRPCE10     object\n",
       "TOT_POP         int64\n",
       "MED_AGE       float64\n",
       "MED_HH_INC    float64\n",
       "dtype: object"
      ]
     },
     "execution_count": 6,
     "metadata": {},
     "output_type": "execute_result"
    }
   ],
   "source": [
    "acs_df.dtypes"
   ]
  },
  {
   "cell_type": "code",
   "execution_count": 7,
   "metadata": {},
   "outputs": [
    {
     "data": {
      "text/plain": [
       "STATEFP10     220333\n",
       "COUNTYFP10    220333\n",
       "TRACTCE10     220333\n",
       "BLKGRPCE10    220333\n",
       "TOT_POP       220333\n",
       "MED_AGE       219143\n",
       "MED_HH_INC    212034\n",
       "dtype: int64"
      ]
     },
     "execution_count": 7,
     "metadata": {},
     "output_type": "execute_result"
    }
   ],
   "source": [
    "acs_df.count()"
   ]
  },
  {
   "cell_type": "code",
   "execution_count": 8,
   "metadata": {},
   "outputs": [
    {
     "data": {
      "text/plain": [
       "STATEFP10         01\n",
       "COUNTYFP10       001\n",
       "TRACTCE10     000100\n",
       "BLKGRPCE10         0\n",
       "TOT_POP            0\n",
       "MED_AGE          5.9\n",
       "MED_HH_INC    2499.0\n",
       "dtype: object"
      ]
     },
     "execution_count": 8,
     "metadata": {},
     "output_type": "execute_result"
    }
   ],
   "source": [
    "acs_df.min()"
   ]
  },
  {
   "cell_type": "code",
   "execution_count": 9,
   "metadata": {},
   "outputs": [
    {
     "data": {
      "text/html": [
       "<div>\n",
       "<style scoped>\n",
       "    .dataframe tbody tr th:only-of-type {\n",
       "        vertical-align: middle;\n",
       "    }\n",
       "\n",
       "    .dataframe tbody tr th {\n",
       "        vertical-align: top;\n",
       "    }\n",
       "\n",
       "    .dataframe thead th {\n",
       "        text-align: right;\n",
       "    }\n",
       "</style>\n",
       "<table border=\"1\" class=\"dataframe\">\n",
       "  <thead>\n",
       "    <tr style=\"text-align: right;\">\n",
       "      <th></th>\n",
       "      <th>STATEFP10</th>\n",
       "      <th>COUNTYFP10</th>\n",
       "      <th>TRACTCE10</th>\n",
       "      <th>BLKGRPCE10</th>\n",
       "      <th>TOT_POP</th>\n",
       "      <th>MED_AGE</th>\n",
       "      <th>MED_HH_INC</th>\n",
       "    </tr>\n",
       "  </thead>\n",
       "  <tbody>\n",
       "    <tr>\n",
       "      <th>0</th>\n",
       "      <td>01</td>\n",
       "      <td>039</td>\n",
       "      <td>962000</td>\n",
       "      <td>2</td>\n",
       "      <td>884</td>\n",
       "      <td>40.8</td>\n",
       "      <td>28250.0</td>\n",
       "    </tr>\n",
       "    <tr>\n",
       "      <th>1</th>\n",
       "      <td>01</td>\n",
       "      <td>039</td>\n",
       "      <td>961800</td>\n",
       "      <td>2</td>\n",
       "      <td>1395</td>\n",
       "      <td>58.0</td>\n",
       "      <td>22817.0</td>\n",
       "    </tr>\n",
       "    <tr>\n",
       "      <th>2</th>\n",
       "      <td>01</td>\n",
       "      <td>039</td>\n",
       "      <td>961600</td>\n",
       "      <td>4</td>\n",
       "      <td>793</td>\n",
       "      <td>44.4</td>\n",
       "      <td>48088.0</td>\n",
       "    </tr>\n",
       "    <tr>\n",
       "      <th>3</th>\n",
       "      <td>01</td>\n",
       "      <td>039</td>\n",
       "      <td>961600</td>\n",
       "      <td>2</td>\n",
       "      <td>942</td>\n",
       "      <td>35.1</td>\n",
       "      <td>64432.0</td>\n",
       "    </tr>\n",
       "    <tr>\n",
       "      <th>4</th>\n",
       "      <td>01</td>\n",
       "      <td>039</td>\n",
       "      <td>961600</td>\n",
       "      <td>1</td>\n",
       "      <td>1726</td>\n",
       "      <td>36.3</td>\n",
       "      <td>53081.0</td>\n",
       "    </tr>\n",
       "  </tbody>\n",
       "</table>\n",
       "</div>"
      ],
      "text/plain": [
       "  STATEFP10 COUNTYFP10 TRACTCE10 BLKGRPCE10  TOT_POP  MED_AGE  MED_HH_INC\n",
       "0        01        039    962000          2      884     40.8     28250.0\n",
       "1        01        039    961800          2     1395     58.0     22817.0\n",
       "2        01        039    961600          4      793     44.4     48088.0\n",
       "3        01        039    961600          2      942     35.1     64432.0\n",
       "4        01        039    961600          1     1726     36.3     53081.0"
      ]
     },
     "execution_count": 9,
     "metadata": {},
     "output_type": "execute_result"
    }
   ],
   "source": [
    "acs_df.head()"
   ]
  },
  {
   "cell_type": "markdown",
   "metadata": {},
   "source": [
    "***\n",
    "***\n",
    "***"
   ]
  },
  {
   "cell_type": "markdown",
   "metadata": {},
   "source": [
    "### Load Dataframe into Google BigQuery"
   ]
  },
  {
   "cell_type": "code",
   "execution_count": 10,
   "metadata": {},
   "outputs": [],
   "source": [
    "from google.cloud import bigquery\n",
    "from google.cloud.bigquery import SchemaField, DatasetReference"
   ]
  },
  {
   "cell_type": "code",
   "execution_count": 13,
   "metadata": {},
   "outputs": [],
   "source": [
    "## GCP Billing Project\n",
    "bq_bill_prj = \"your-billing-project\"\n",
    "\n",
    "## GCP BQ DESTINATION TABLE \n",
    "bq_prj = 'destination-prj'\n",
    "bq_ds = 'destination_dataset'\n",
    "bq_tbl = 'destination_table'"
   ]
  },
  {
   "cell_type": "code",
   "execution_count": 14,
   "metadata": {},
   "outputs": [],
   "source": [
    "# Function to upload pandas dataframe into a non streaming table in BigQuery\n",
    "def df_to_bq_tbl(proj,ds,tbl,df):\n",
    "    \n",
    "    bq_client = bigquery.Client(bq_prj)\n",
    "\n",
    "    dataset_ref = DatasetReference(proj, ds)\n",
    "\n",
    "    job_config = bigquery.LoadJobConfig()\n",
    "    job_config.autodetect =True\n",
    "    job_config.write_disposition='WRITE_TRUNCATE'\n",
    "\n",
    "    load_job = bq_client.load_table_from_dataframe(df,dataset_ref.table(tbl),job_config=job_config) \n",
    "    load_job.result()\n",
    "    destination_table = bq_client.get_table(dataset_ref.table(tbl))"
   ]
  },
  {
   "cell_type": "code",
   "execution_count": null,
   "metadata": {},
   "outputs": [],
   "source": [
    "df_to_bq_tbl(bq_prj, bq_ds, bq_tbl, acs_df)"
   ]
  }
 ],
 "metadata": {
  "kernelspec": {
   "display_name": "Python 3",
   "language": "python",
   "name": "python3"
  },
  "language_info": {
   "codemirror_mode": {
    "name": "ipython",
    "version": 3
   },
   "file_extension": ".py",
   "mimetype": "text/x-python",
   "name": "python",
   "nbconvert_exporter": "python",
   "pygments_lexer": "ipython3",
   "version": "3.8.3rc1"
  }
 },
 "nbformat": 4,
 "nbformat_minor": 4
}
